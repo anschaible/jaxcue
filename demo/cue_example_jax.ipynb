{
 "cells": [
  {
   "cell_type": "markdown",
   "metadata": {},
   "source": [
    "Example is taken from the Github readme: https://github.com/yi-jia-li/cue"
   ]
  },
  {
   "cell_type": "code",
   "execution_count": 1,
   "metadata": {},
   "outputs": [
    {
     "name": "stderr",
     "output_type": "stream",
     "text": [
      "2024-12-11 15:15:37.394821: I external/local_xla/xla/tsl/cuda/cudart_stub.cc:32] Could not find cuda drivers on your machine, GPU will not be used.\n",
      "2024-12-11 15:15:37.399319: I external/local_xla/xla/tsl/cuda/cudart_stub.cc:32] Could not find cuda drivers on your machine, GPU will not be used.\n",
      "2024-12-11 15:15:37.408803: E external/local_xla/xla/stream_executor/cuda/cuda_fft.cc:477] Unable to register cuFFT factory: Attempting to register factory for plugin cuFFT when one has already been registered\n",
      "WARNING: All log messages before absl::InitializeLog() is called are written to STDERR\n",
      "E0000 00:00:1733926537.422727  509230 cuda_dnn.cc:8310] Unable to register cuDNN factory: Attempting to register factory for plugin cuDNN when one has already been registered\n",
      "E0000 00:00:1733926537.426796  509230 cuda_blas.cc:1418] Unable to register cuBLAS factory: Attempting to register factory for plugin cuBLAS when one has already been registered\n",
      "2024-12-11 15:15:37.444234: I tensorflow/core/platform/cpu_feature_guard.cc:210] This TensorFlow binary is optimized to use available CPU instructions in performance-critical operations.\n",
      "To enable the following instructions: AVX2 FMA, in other operations, rebuild TensorFlow with the appropriate compiler flags.\n",
      "2024-12-11 15:15:39.653087: E external/local_xla/xla/stream_executor/cuda/cuda_driver.cc:152] failed call to cuInit: INTERNAL: CUDA error: Failed call to cuInit: UNKNOWN ERROR (303)\n",
      "/home/annalena/miniconda3/envs/jaxcue/lib/python3.11/site-packages/sklearn/base.py:376: InconsistentVersionWarning: Trying to unpickle estimator IncrementalPCA from version 1.0.2 when using version 1.5.2. This might lead to breaking code or invalid results. Use at your own risk. For more info please refer to:\n",
      "https://scikit-learn.org/stable/model_persistence.html#security-maintainability-limitations\n",
      "  warnings.warn(\n"
     ]
    }
   ],
   "source": [
    "from cue.line import predict as line_predict\n",
    "from cue.continuum import predict as cont_predict\n",
    "par = [[21.5, 14.85, 6.45, 3.15, 4.55, 0.7, 0.85, 49.58, 10**2.5, -0.85, -0.134, -0.134],\n",
    "       [21.5, 14.85, 6.45, 3.15, 4.55, 0.7, 0.85, 49.58, 10**2.5, -0.85, -0.134, -0.134]]\n",
    "#lines = line_predict(theta=par).nn_predict()\n",
    "#cont = cont_predict(theta=par).nn_predict()\n",
    "#print(cont)"
   ]
  },
  {
   "cell_type": "code",
   "execution_count": 2,
   "metadata": {},
   "outputs": [
    {
     "name": "stdout",
     "output_type": "stream",
     "text": [
      "[9.150e+02 9.250e+02 9.350e+02 ... 9.817e+07 9.908e+07 1.000e+08]\n",
      "[[8.0352510e+21 8.0000148e+21 7.9655071e+21 ... 4.7587019e+23\n",
      "  4.7641613e+23 4.7696813e+23]\n",
      " [8.0352510e+21 8.0000148e+21 7.9655071e+21 ... 4.7587019e+23\n",
      "  4.7641613e+23 4.7696813e+23]]\n"
     ]
    }
   ],
   "source": [
    "from jax.experimental import jax2tf\n",
    "import jax.numpy as jnp\n",
    "import tensorflow as tf\n",
    "import jax\n",
    "\n",
    "def continuum_tf(theta):\n",
    "    return cont_predict(theta=theta).nn_predict()\n",
    "\n",
    "par = jnp.array(par)\n",
    "wavelength_cont, continuum = jax2tf.call_tf(continuum_tf)(par)\n",
    "\n",
    "print(wavelength_cont)\n",
    "print(continuum)"
   ]
  },
  {
   "cell_type": "code",
   "execution_count": 3,
   "metadata": {},
   "outputs": [
    {
     "name": "stdout",
     "output_type": "stream",
     "text": [
      "(138,)\n",
      "(2, 138)\n"
     ]
    },
    {
     "name": "stderr",
     "output_type": "stream",
     "text": [
      "/home/annalena/miniconda3/envs/jaxcue/lib/python3.11/site-packages/tensorflow/python/framework/constant_op.py:108: RuntimeWarning: overflow encountered in cast\n",
      "  return ops.EagerTensor(value, ctx.device_name, dtype)\n"
     ]
    }
   ],
   "source": [
    "def lines_tf(theta):\n",
    "    return line_predict(theta=theta).nn_predict()\n",
    "\n",
    "par = jnp.array(par)\n",
    "wavelength_lines, lines = jax2tf.call_tf(lines_tf)(par)\n",
    "\n",
    "print(wavelength_lines.shape)\n",
    "print(lines.shape)"
   ]
  },
  {
   "cell_type": "code",
   "execution_count": 4,
   "metadata": {},
   "outputs": [
    {
     "data": {
      "image/png": "[encoded data removed]",
      "text/plain": [
       "<Figure size 640x480 with 1 Axes>"
      ]
     },
     "metadata": {},
     "output_type": "display_data"
    }
   ],
   "source": [
    "import matplotlib.pyplot as plt\n",
    "\n",
    "plt.plot(wavelength_cont, continuum[0])\n",
    "plt.plot(wavelength_cont, continuum[1])\n",
    "plt.show()"
   ]
  }
 ],
 "metadata": {
  "kernelspec": {
   "display_name": "jaxcue",
   "language": "python",
   "name": "python3"
  },
  "language_info": {
   "codemirror_mode": {
    "name": "ipython",
    "version": 3
   },
   "file_extension": ".py",
   "mimetype": "text/x-python",
   "name": "python",
   "nbconvert_exporter": "python",
   "pygments_lexer": "ipython3",
   "version": "3.11.10"
  }
 },
 "nbformat": 4,
 "nbformat_minor": 2
}
