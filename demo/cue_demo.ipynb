{
 "cells": [
  {
   "cell_type": "markdown",
   "id": "4f56985a",
   "metadata": {},
   "source": [
    "<span style=\"font-size:2.5em;\">**Infer nebular properties and the ionizing spectrum from emission lines**</span>"
   ]
  },
  {
   "cell_type": "markdown",
   "id": "e81f90e5",
   "metadata": {},
   "source": [
    "This is an example of fitting galaxy emission lines with Cue."
   ]
  },
  {
   "cell_type": "code",
   "execution_count": null,
   "id": "1f2ee4c9",
   "metadata": {
    "ExecuteTime": {
     "end_time": "2024-07-31T20:36:45.985395Z",
     "start_time": "2024-07-31T20:36:39.237457Z"
    }
   },
   "outputs": [
    {
     "ename": "",
     "evalue": "",
     "output_type": "error",
     "traceback": [
      "\u001b[1;31mThe kernel failed to start as the Python Environment 'jaxcue (Python -1.-1.-1)' is no longer available. Consider selecting another kernel or refreshing the list of Python Environments."
     ]
    }
   ],
   "source": [
    "# import functions\n",
    "import numpy as np\n",
    "import dill as pickle\n",
    "import matplotlib\n",
    "from matplotlib import pyplot as plt\n",
    "from pkg_resources import resource_filename\n",
    "import cue\n",
    "from cue.line import predict\n",
    "from cue.utils import (c, cont_lam, new_sorted_line_name, \n",
    "                       logQ, Qtotal,\n",
    "                       get_loglinear_spectra, ionparam2norm, calcQ) # this includes some constants and functions for the fits and output plots"
   ]
  },
  {
   "cell_type": "code",
   "execution_count": null,
   "id": "de8eb9ad",
   "metadata": {
    "ExecuteTime": {
     "end_time": "2024-07-31T20:36:45.992643Z",
     "start_time": "2024-07-31T20:36:45.987948Z"
    },
    "code_folding": [
     0
    ]
   },
   "outputs": [],
   "source": [
    "# re-defining plotting defaults\n",
    "from matplotlib import rcParams\n",
    "rcParams.update({'xtick.major.pad': '7.0'})\n",
    "rcParams.update({'xtick.major.size': '7.5'})\n",
    "rcParams.update({'xtick.major.width': '1.5'})\n",
    "rcParams.update({'xtick.minor.pad': '7.0'})\n",
    "rcParams.update({'xtick.minor.size': '3.5'})\n",
    "rcParams.update({'xtick.minor.width': '1.0'})\n",
    "rcParams.update({'ytick.major.pad': '7.0'})\n",
    "rcParams.update({'ytick.major.size': '7.5'})\n",
    "rcParams.update({'ytick.major.width': '1.5'})\n",
    "rcParams.update({'ytick.minor.pad': '7.0'})\n",
    "rcParams.update({'ytick.minor.size': '3.5'})\n",
    "rcParams.update({'ytick.minor.width': '1.0'})\n",
    "rcParams.update({'font.size': 12})"
   ]
  },
  {
   "cell_type": "markdown",
   "id": "dfbfbbe0",
   "metadata": {},
   "source": [
    "# Read the observed line luminosities and uncertainties of a galaxy at z=6 (from Cameron+2023). The line luminosities are in erg/s."
   ]
  },
  {
   "cell_type": "markdown",
   "id": "56ab6c58",
   "metadata": {},
   "source": [
    "Here we take some line measurements of GS9422 from Cameron er al. (2023) ([10.48550/arXiv.2311.02051](https://ui.adsabs.harvard.edu/abs/2023arXiv231102051C/abstract)). \n",
    "\n",
    "The input emission lines should be in the order of the obs[\"line_name\"]. obs[\"line_lum\"] are the detected emission line luminosities in erg/s. obs[\"line_lum_up\"] are the 3 sigma upper limits of some undetected emission lines. obs[\"line_lum_unc\"] are 1 sigma uncertainty of the line luminosities or the 1 sigma upper limits. All luminosities are in rest-frame and have been dust-corrected."
   ]
  },
  {
   "cell_type": "code",
   "execution_count": null,
   "id": "09c102b0",
   "metadata": {
    "ExecuteTime": {
     "end_time": "2024-07-31T20:36:49.392763Z",
     "start_time": "2024-07-31T20:36:49.384707Z"
    },
    "scrolled": true
   },
   "outputs": [],
   "source": [
    "with open(\"./demo_data.pkl\", 'rb') as f:\n",
    "    obs = pickle.load(f)\n",
    "obs.keys()"
   ]
  },
  {
   "cell_type": "markdown",
   "id": "a3b9f9e7",
   "metadata": {},
   "source": [
    "The emulator error are <~5% for most emission lines. For some high ionization state lines, their errors are >20%. We might add in some emulator uncertainties to the line flux uncertainties."
   ]
  },
  {
   "cell_type": "code",
   "execution_count": null,
   "id": "bf55393f",
   "metadata": {
    "ExecuteTime": {
     "end_time": "2024-07-31T20:36:50.415587Z",
     "start_time": "2024-07-31T20:36:50.407895Z"
    },
    "code_folding": [
     0
    ]
   },
   "outputs": [],
   "source": [
    "# S/N of the observation\n",
    "wav_ind, = np.where((obs['line_lum']!=0) | (obs['line_lum_up']!=0))\n",
    "wav_ind_obs, = np.where(obs['line_lum']!=0)\n",
    "wav_ind_up, = np.where(obs['line_lum_up']!=0)\n",
    "\n",
    "SN_obs = np.zeros_like(obs['line_lum'])\n",
    "SN_obs[wav_ind_obs] = obs['line_lum'][wav_ind_obs]/obs['line_lum_unc'][wav_ind_obs] \n",
    "SN_obs[wav_ind_up] = 3\n",
    "\n",
    "# S/N of the emulator test data set, here the noise is the emulator uncertainty\n",
    "with open(resource_filename(\"cue\", \"data/nn_stats_v0.pkl\"), 'rb') as f:\n",
    "       nn_stats = pickle.load(f)\n",
    "SN_nn = nn_stats['SN_quantile'][1][np.argsort(nn_stats['wav'])]\n",
    "\n",
    "# combine the observed SN and the emulator SN to estimate the noise for the measured lines\n",
    "SN_obs[wav_ind_obs] = 1./np.sqrt(1./SN_obs[wav_ind_obs]**2 + 1./SN_nn[wav_ind_obs]**2)\n",
    "line_noise = np.zeros_like(obs['line_lum'])\n",
    "line_noise[wav_ind_obs] = (obs['line_lum'][wav_ind_obs]/SN_obs[wav_ind_obs])\n",
    "line_noise[wav_ind_up] = obs['line_lum_unc'][wav_ind_up]\n",
    "line_var = line_noise**2"
   ]
  },
  {
   "cell_type": "markdown",
   "id": "de57bf69",
   "metadata": {},
   "source": [
    "# Sample the posterior of Cue parameters using dynesty."
   ]
  },
  {
   "cell_type": "markdown",
   "id": "2276d362",
   "metadata": {},
   "source": [
    "dynesty implements dynamic nested sampling. Here we change some dynesty settings for the sampling process."
   ]
  },
  {
   "cell_type": "code",
   "execution_count": null,
   "id": "8e758e7f",
   "metadata": {
    "ExecuteTime": {
     "end_time": "2024-07-31T20:37:03.037680Z",
     "start_time": "2024-07-31T20:37:03.008887Z"
    },
    "code_folding": [
     5
    ]
   },
   "outputs": [],
   "source": [
    "from dynesty import NestedSampler\n",
    "from dynesty import DynamicNestedSampler\n",
    "import warnings\n",
    "warnings.filterwarnings(\"ignore\")\n",
    "\n",
    "dargs = {\n",
    "        'bound': 'multi',\n",
    "        'sample': 'rwalk',\n",
    "        'nlive': 500,\n",
    "        'wt_kwargs': {'pfrac': 1.0},\n",
    "        'dlogz': 0.01,\n",
    "        'update': {'min_ncall': 10000, 'min_eff': 10.},\n",
    "        'maxcall': int(1.e7),\n",
    "        'update_interval': float(50),\n",
    "        'walks': 25\n",
    "       }\n",
    "\n",
    "import multiprocessing as mp\n",
    "nparallel = 4 # running dynesty in parallel"
   ]
  },
  {
   "cell_type": "markdown",
   "id": "28700062",
   "metadata": {},
   "source": [
    "Prior of the Cue parameters. The first 7 parameters define the 4 piece-wise power-law ionizing spectrum. The rest parameters include ionization parameter log$U$, gas density log$n_\\rm{H}$, gas-phase metallicity log[O/H], log[N/O], log[C/O], and the effective ionizing photon rate log$Q_\\rm{ion}$. The last parameter, log$Q_\\rm{ion}$ is a scaling parameter that normalizes the output nebular emission lines and continuum by the $Q_\\rm{ion}$/$Q_\\rm{H}$($U$, $n_\\rm{H}$). Here we adopt uniform priors spanning the full training set range."
   ]
  },
  {
   "cell_type": "code",
   "execution_count": null,
   "id": "9e883ae1",
   "metadata": {
    "ExecuteTime": {
     "end_time": "2024-07-31T20:37:05.290543Z",
     "start_time": "2024-07-31T20:37:05.282352Z"
    },
    "code_folding": [
     0
    ]
   },
   "outputs": [],
   "source": [
    "def prior_transform(model_params):\n",
    "    \"\"\"Transforms the uniform random variable `u ~ Unif[0., 1.)` to the parameter of interest.\"\"\"\n",
    "    un0, un1, un2, un3, un4, un5, un6, un7, un8, un9, un10, un11, un12 = model_params\n",
    "    n0 = 20.5 * (2*un0 - 1) + 21.5\n",
    "    n1 = 15.15 * (2*un1 - 1) + 14.85\n",
    "    n2 = 7.55 * (2*un2 - 1) + 6.45\n",
    "    n3 = 4.85 * (2*un3 - 1) + 3.15\n",
    "    n4 = 5.55 * (2*un4 - 1) + 4.55\n",
    "    n5 = 1.2 * (2*un5 - 1) + 0.7\n",
    "    n6 = 1.25 * (2*un6 - 1) + 0.85\n",
    "    n7 = 1.5 * (2*un7 - 1) - 2.5  #logU\n",
    "    n8 = 1.5 * (2*un8 - 1) + 2.5  #lognH (cm^-3)\n",
    "    n9 = 1.35 * (2*un9 - 1) - 0.85  #gas_logZ\n",
    "    n10 = 0.5*(np.log10(5.4)+1) * (2*un10 - 1) + 0.5*(np.log10(5.4)-1)  #log N/O\n",
    "    n11 = 0.5*(np.log10(5.4)+1) * (2*un11 - 1) + 0.5*(np.log10(5.4)-1)  #log C/O\n",
    "    n12 = 10 * (2*un12 - 1) + 50  #effective logQ for normalization\n",
    "    return n0, n1, n2, n3, n4, n5, n6, n7, n8, n9, n10, n11, n12"
   ]
  },
  {
   "cell_type": "markdown",
   "id": "f7499636",
   "metadata": {},
   "source": [
    "A Gaussian likelihood for the emission lines."
   ]
  },
  {
   "cell_type": "code",
   "execution_count": null,
   "id": "fa9cadee",
   "metadata": {
    "ExecuteTime": {
     "end_time": "2024-07-31T20:37:07.247694Z",
     "start_time": "2024-07-31T20:37:07.241854Z"
    },
    "code_folding": [
     0
    ]
   },
   "outputs": [],
   "source": [
    "def loglike_cue(model_params):\n",
    "    # transform the parameters to the input parameters of Cue\n",
    "    model_params[7] = logQ(model_params[7], lognH=model_params[8]) # convert log U to log QH(U, nH)\n",
    "    model_params[8] = 10**model_params[8] # convert log nH to nH\n",
    "    \n",
    "    # get the line predictions from Cue\n",
    "    fit = predict(theta=np.array(model_params[:12]).reshape(1, 12), \n",
    "                  line_ind=np.arange(138)).nn_predict()[1]/10**model_params[7]*10**model_params[12]\n",
    "    \n",
    "    # calculate the Gaussian likelihood\n",
    "    delta = np.zeros(138)\n",
    "    delta[wav_ind_obs] = obs['line_lum'][wav_ind_obs]-fit[wav_ind_obs]\n",
    "    delta[wav_ind_up] = 0-fit[wav_ind_up]\n",
    "    delta = delta[wav_ind]\n",
    "    lnp = -0.5*( (delta**2/line_var[wav_ind]) + np.log(2*np.pi*line_var[wav_ind]) )\n",
    "    return lnp.sum()"
   ]
  },
  {
   "cell_type": "markdown",
   "id": "c0a94650",
   "metadata": {},
   "source": [
    "Sample the posterior. Each Cue prediction takes ~6ms. Depending on the dynesty settings and the computing resources, this process might take ~30min.  "
   ]
  },
  {
   "cell_type": "code",
   "execution_count": null,
   "id": "e3954e2e",
   "metadata": {
    "ExecuteTime": {
     "end_time": "2024-07-31T21:02:03.552804Z",
     "start_time": "2024-07-31T20:37:10.215464Z"
    },
    "code_folding": [
     1
    ]
   },
   "outputs": [],
   "source": [
    "pool = mp.Pool(nparallel)\n",
    "cue_sampler = DynamicNestedSampler(loglike_cue, prior_transform, \n",
    "                                   ndim=13,\n",
    "                                   sample=dargs['sample'],\n",
    "                                   first_update=dargs['update'],\n",
    "                                   bound=dargs['bound'],\n",
    "                                   nlive=dargs['nlive'],\n",
    "                                   update_interval=dargs['update_interval'],\n",
    "                                   pool=pool,\n",
    "                                   queue_size=nparallel,\n",
    "                                  )\n",
    "cue_sampler.run_nested(maxcall=dargs['maxcall'])\n",
    "cue_results = cue_sampler.results\n",
    "with open(\"demo_res.pkl\", 'wb') as f:\n",
    "    pickle.dump(cue_results, f)\n",
    "pool.close()"
   ]
  },
  {
   "cell_type": "markdown",
   "id": "5dd7fc42",
   "metadata": {},
   "source": [
    "# Plot the fit results"
   ]
  },
  {
   "cell_type": "markdown",
   "id": "92584f75",
   "metadata": {},
   "source": [
    "Translate the power-law parameters to the ionizing spectrum $F_\\nu$ posterior. We can also calculate the posterior of the ionizing photon output at each bin."
   ]
  },
  {
   "cell_type": "code",
   "execution_count": null,
   "id": "58172ff2",
   "metadata": {
    "ExecuteTime": {
     "end_time": "2024-07-31T21:32:10.269010Z",
     "start_time": "2024-07-31T21:32:02.539519Z"
    },
    "code_folding": [
     0
    ]
   },
   "outputs": [],
   "source": [
    "# Here ionparam2norm() calculate the power-law indexes and normalizations from the Cue parameters\n",
    "# It does the conversion of the ratios of the power-law segments to the normalizations.\n",
    "# get_loglinear_spectra() calculates the 4-segment power-law ionizing spectrum based on the power-law parameters.\n",
    "# We then renormalize the ionizing spectrum based on the Q(U, nH) to get the inferred ionizing spectrum shape.\n",
    "# The Qtotal function calculate the ionizing photon output at each segment given the power-law parameters. We scale Qs to match with total Qion\n",
    "wavelength = np.load(resource_filename(\"cue\", \"data/Powerlaw_wavelength.npy\")) # a wavelength grid at 1-2000AA, can be replaced with a different grid\n",
    "posterior_Fnu = list()\n",
    "posterior_Qs = list()\n",
    "\n",
    "for this_par in cue_results['samples']:\n",
    "    this_spec = get_loglinear_spectra(wavelength, ionparam2norm(this_par)[0])\n",
    "    Qnorm = calcQ(wavelength, this_spec[:len(wavelength)])\n",
    "    this_spec[:len(wavelength)] = this_spec[:len(wavelength)]*\\\n",
    "                                  10**logQ(this_par[7], lognH=this_par[8])/Qnorm\n",
    "    this_Qs = 10**Qtotal(ionparam2norm(this_par)[0])\n",
    "    posterior_Qs.append(10**this_par[12]/np.sum(this_Qs)*this_Qs)\n",
    "    posterior_Fnu.append(this_spec)\n",
    "\n",
    "posterior_Fnu = np.array(posterior_Fnu)\n",
    "posterior_Qs = np.array(posterior_Qs)"
   ]
  },
  {
   "cell_type": "markdown",
   "id": "0bd550d8",
   "metadata": {},
   "source": [
    "Plot the posterior of the ionizing spectrum and nebular properties. For this object with 29 detected lines, Cue can constrain the ionizing photon output at each power-law segment and the nebular parameters. The power-law indexes are not well constrained since they only have second-order effect on the ionizing spectrum shape and we need more high S/N lines to infer the indexes."
   ]
  },
  {
   "cell_type": "code",
   "execution_count": null,
   "id": "127c3f75",
   "metadata": {
    "ExecuteTime": {
     "end_time": "2024-07-31T21:32:10.282138Z",
     "start_time": "2024-07-31T21:32:10.271603Z"
    },
    "code_folding": [
     0
    ]
   },
   "outputs": [],
   "source": [
    "# draw 2000 samples from the posterior ionizing spectrum\n",
    "from cue.utils import (c, cont_lam, new_sorted_line_name, \n",
    "                       logQ, Qtotal,\n",
    "                       get_loglinear_spectra, ionparam2norm, calcQ) # this includes some constants and functions for the fits and output plots\n",
    "dynesty_weights = np.exp(cue_results.logwt-cue_results.logz[-1])\n",
    "sample_ionizing_spectra = posterior_Fnu[np.random.choice(len(cue_results.samples), size=2000,\n",
    "                                                        p = dynesty_weights)] * (c/wavelength**2)\n",
    "best_ionizing_spectrum = posterior_Fnu[-1] * (c/wavelength**2)"
   ]
  },
  {
   "cell_type": "code",
   "execution_count": null,
   "id": "a4ad234d",
   "metadata": {
    "ExecuteTime": {
     "end_time": "2024-07-31T21:32:23.877541Z",
     "start_time": "2024-07-31T21:32:10.284226Z"
    },
    "code_folding": [
     0
    ]
   },
   "outputs": [],
   "source": [
    "# corner plot of the posterior and the ionizing spectrum posterior\n",
    "import corner\n",
    "sigmas = 1 - np.exp(-np.array([1,2,3])**2/2) #corresponding to 1,2,3 sigmas\n",
    "labels = [r'$\\alpha_\\mathrm{HeII}$', r'$\\alpha_\\mathrm{OII}$', \n",
    "          r'$\\alpha_\\mathrm{HeI}$', r'$\\alpha_\\mathrm{HI}$',\n",
    "          r'$\\log \\frac{F_\\mathrm{OII}}{F_\\mathrm{HeII}}$', \n",
    "          r'$\\log \\frac{F_\\mathrm{HeI}}{F_\\mathrm{OII}}$', \n",
    "          r'$\\log \\frac{F_\\mathrm{HI}}{F_\\mathrm{HeI}}$',\n",
    "          r'$\\log U$', r'$\\log n_\\mathrm{H}$', \n",
    "          r'log [O/H]', \n",
    "          r'log [N/O]', \n",
    "          r'log [C/O]',\n",
    "          r'$\\log Q_\\mathrm{ion}$'\n",
    "         ]\n",
    "\n",
    "# define a plot range\n",
    "from dynesty.utils import resample_equal\n",
    "plot_min, plot_max = np.quantile(resample_equal(cue_results['samples'], \n",
    "                                                              np.exp(cue_results['logwt']-cue_results['logz'][-1])), \n",
    "                                 [0, 1], axis=0)\n",
    "plot_range = [[np.min([cue_results['samples'][-1][i], plot_min[i]]), \n",
    "               np.max([cue_results['samples'][-1][i], plot_max[i]])] for i in range(len(plot_min))]\n",
    "\n",
    "# make corner plot\n",
    "fig = corner.corner(cue_results['samples'],\n",
    "                    bins = 20,\n",
    "                    weights=np.exp(cue_results['logwt']-cue_results['logz'][-1]),\n",
    "                    truths = cue_results['samples'][-1], \n",
    "                    truth_color= 'k',\n",
    "                    #title_quantiles = [0.025, 0.5, 0.975],\n",
    "                    quantiles = [0.16, 0.5, 0.84], #[0.025, 0.5, 0.975],\n",
    "                    #verbose = True,\n",
    "                    color='#4682b4', \n",
    "                    show_titles=True, \n",
    "                    title_kwargs={\"fontsize\": 25}, \n",
    "                    label_kwargs={\"size\":25}, \n",
    "                    #max_n_ticks=7, \n",
    "                    range = plot_range,\n",
    "                    alpha=0.6,\n",
    "                    levels=sigmas, \n",
    "                    plot_datapoints=False,\n",
    "                    plot_density=False,\n",
    "                    fill_contours=True,\n",
    "                   )\n",
    "[ax.tick_params(labelsize=15) for ax in fig.get_axes()]\n",
    "axes = np.array(fig.axes).reshape((len(cue_results['samples'][-1]), \n",
    "                            len(cue_results['samples'][-1])))\n",
    "for i in range(12):\n",
    "    axes[i+1, 0].set_ylabel(labels[i+1], size=25)\n",
    "for i in range(13):\n",
    "    axes[-1, i].set_xlabel(labels[i], size=25)\n",
    "\n",
    "# plot ionizing spectrum posterior\n",
    "left, bottom, width, height = [0.62, 0.62, 0.37, 0.37]\n",
    "ax2 = fig.add_axes([left, bottom, width, height])\n",
    "for i in range(2000):\n",
    "    ax2.plot(wavelength, np.log10(sample_ionizing_spectra[i]), alpha=0.1, c='#4682b4')\n",
    "ax2.plot(wavelength, np.log10(best_ionizing_spectrum), alpha=0.4, c='k', lw=5, label='best-fit')\n",
    "ax2.set_xlim(1,912)\n",
    "ax2.set_ylim(24, 40)\n",
    "ax2.legend(loc='lower right', prop={'size':25})\n",
    "ax2.set_xlabel(r'$\\mathrm{\\lambda}$ ($\\mathrm{\\AA}$)', size=25)\n",
    "ax2.set_ylabel(r'ionizing spectrum log $\\mathrm{F}_\\lambda$ (erg s$^{-1}$ $\\mathrm{\\AA}^{-1}$)', size=25);\n",
    "ax2.tick_params(labelsize=25, length=10, width=2)"
   ]
  },
  {
   "cell_type": "code",
   "execution_count": null,
   "id": "6dc566a0",
   "metadata": {
    "ExecuteTime": {
     "end_time": "2024-07-31T21:32:24.084927Z",
     "start_time": "2024-07-31T21:32:23.880647Z"
    },
    "code_folding": [
     0
    ]
   },
   "outputs": [],
   "source": [
    "# We can also plot the inferred ionizing photon outputs at each power-law bin\n",
    "plt.figure(figsize=(3.5,3), dpi=120)\n",
    "plt.hist(np.log10(posterior_Qs[:,0]), weights = dynesty_weights, color='#65156e', \n",
    "         density=True, histtype='step', bins=np.linspace(51.7, 54.3, 80),\n",
    "         label=r'$Q_\\mathrm{HeII}$', alpha=0.8, lw=2)\n",
    "plt.hist(np.log10(posterior_Qs[:,1]), weights = dynesty_weights, color='dodgerblue', \n",
    "         density=True, histtype='step', bins=np.linspace(51.7, 54.3, 80),\n",
    "         label=r'$Q_\\mathrm{OII}$', alpha=0.8, lw=2)\n",
    "plt.hist(np.log10(posterior_Qs[:,2]), weights = dynesty_weights, color='#1fa187', \n",
    "         density=True, histtype='step', bins=np.linspace(51.7, 54.3, 80),\n",
    "         label=r'$Q_\\mathrm{HeI}$', alpha=0.8, lw=2)\n",
    "plt.hist(np.log10(posterior_Qs[:,3]), weights = dynesty_weights, color='C1', \n",
    "         density=True, histtype='step', bins=np.linspace(51.7, 54.3, 80),\n",
    "         label=r'$Q_\\mathrm{HI}$', alpha=0.8, lw=2)\n",
    "\n",
    "plt.legend(framealpha=0., loc='upper left', ncol=2, columnspacing=0.4, handletextpad=0.2, prop={'size':14})\n",
    "plt.xlabel(r'log Qs (s$^{-1}$)');"
   ]
  },
  {
   "cell_type": "markdown",
   "id": "0c82bc3d",
   "metadata": {},
   "source": [
    "Calculate and plot the nebular emission line and continuum posterior."
   ]
  },
  {
   "cell_type": "code",
   "execution_count": null,
   "id": "dfa49ef3",
   "metadata": {
    "ExecuteTime": {
     "end_time": "2024-07-31T21:34:12.834964Z",
     "start_time": "2024-07-31T21:32:24.086589Z"
    },
    "code_folding": [
     0,
     6,
     21
    ]
   },
   "outputs": [],
   "source": [
    "# median and 1-sigma range of the emission line and nebular continuum\n",
    "from dynesty.utils import resample_equal\n",
    "theta_arr = resample_equal(cue_results.samples, np.exp(cue_results.logwt-cue_results.logz[-1]), rstate=None)\n",
    "\n",
    "line_pred = list()\n",
    "cont_pred = list()\n",
    "for ind in range(len(theta_arr)):\n",
    "    par = theta_arr[ind].copy()\n",
    "    par[7] = logQ(par[7], lognH=par[8])\n",
    "    par[8] = 10**par[8]\n",
    "    line_pred.append(predict(theta=np.array(par[:12]).reshape(1, 12), \n",
    "                             line_ind=np.arange(138)).nn_predict()[1]/10**par[7]*10**par[12])\n",
    "    cont_pred.append(cue.continuum.predict(theta=np.array(par[:12]).reshape(1, 12)).nn_predict()[1]/\\\n",
    "    10**par[7]*10**par[12])\n",
    "low_line, med_line, up_line = np.quantile(np.array(line_pred), [0.16, 0.5, 0.84], axis=0)\n",
    "low_cont, med_cont, up_cont = np.quantile(np.array(cont_pred), [0.16, 0.5, 0.84], axis=0)\n",
    "\n",
    "par = cue_results['samples'][-1].copy()\n",
    "log_Ltotal = np.zeros(4)\n",
    "par[7] = logQ(par[7], lognH=par[8])\n",
    "par[8] = 10**par[8]\n",
    "best_line_pred = predict(theta=np.array(par[:12]).reshape(1, 12), \n",
    "                         line_ind=np.arange(138)).nn_predict()[1]/10**par[7]*10**par[12]\n",
    "best_cont_pred = cue.continuum.predict(theta=np.array(par[:12]).reshape(1, 12)).nn_predict()[1]/10**par[7]*10**par[12]"
   ]
  },
  {
   "cell_type": "code",
   "execution_count": null,
   "id": "165d2339",
   "metadata": {
    "ExecuteTime": {
     "end_time": "2024-07-31T21:34:12.842463Z",
     "start_time": "2024-07-31T21:34:12.837465Z"
    },
    "code_folding": [
     0
    ]
   },
   "outputs": [],
   "source": [
    "# goodness of fit function for emission lines. \n",
    "# The noise here is only the observational noise, different than the one in likelihood function, where we also account for the emulator noise.\n",
    "def chi_lines(fit):\n",
    "    chi = np.zeros_like(obs[\"line_lum\"])\n",
    "    chi[wav_ind_obs] = (fit[wav_ind_obs]-obs[\"line_lum\"][wav_ind_obs]) / obs[\"line_lum_unc\"][wav_ind_obs]\n",
    "    chi[wav_ind_up] = (fit[wav_ind_up]-0) / obs[\"line_lum_unc\"][wav_ind_up]\n",
    "    \n",
    "    chisq = np.sum(chi**2)\n",
    "    ndof = len(chi[wav_ind])\n",
    "    reduced_chisq = chisq/(ndof)\n",
    "\n",
    "    return reduced_chisq, chi"
   ]
  },
  {
   "cell_type": "code",
   "execution_count": null,
   "id": "245b848b",
   "metadata": {
    "ExecuteTime": {
     "end_time": "2024-07-31T21:34:12.854208Z",
     "start_time": "2024-07-31T21:34:12.845458Z"
    },
    "code_folding": [
     0
    ]
   },
   "outputs": [],
   "source": [
    "# define line labels of the emission lines for the plots\n",
    "round_to_n = lambda x, n: x if x == 0 else round(x, -int(np.floor(np.log10(abs(x)))) + (n - 1))\n",
    "def formatNumber(num):\n",
    "    if num % 1 == 0:\n",
    "        return str(int(num))\n",
    "    else:\n",
    "        return str(num)\n",
    "    \n",
    "shortened_sorted_line_name = list()\n",
    "for i in range(len(new_sorted_line_name)):\n",
    "    new_name = new_sorted_line_name[i][:5] + \\\n",
    "    formatNumber(round_to_n(float(new_sorted_line_name[i][5:12]), 4)) + \\\n",
    "    new_sorted_line_name[i][12]\n",
    "    if new_name[-1] == 'A':\n",
    "        new_name = new_name[:-1] + r'$\\mathrm{\\AA}$'\n",
    "    if new_name[-1] == 'm':\n",
    "        new_name = new_name[:-1] + r'$\\mathrm{\\mu}$m'\n",
    "    shortened_sorted_line_name.append(new_name)\n",
    "shortened_sorted_line_name = np.array(shortened_sorted_line_name)"
   ]
  },
  {
   "cell_type": "code",
   "execution_count": null,
   "id": "67ff24c2",
   "metadata": {
    "ExecuteTime": {
     "end_time": "2024-07-31T21:34:13.778004Z",
     "start_time": "2024-07-31T21:34:12.857199Z"
    },
    "code_folding": [
     0
    ]
   },
   "outputs": [],
   "source": [
    "# plot emission line prediction\n",
    "fig, ([line_lum_ax,line_lum_resid_ax]) = plt.subplots(2, 1, #sharex=True, \n",
    "                                            gridspec_kw={'height_ratios': [3, 1.2],\n",
    "                                                          'hspace': 0.},\n",
    "                                            figsize=(7,5.), dpi=140)\n",
    "\n",
    "linechi_low = chi_lines(low_line)[1]\n",
    "linechi_up = chi_lines(up_line)[1]\n",
    "linechi_med = chi_lines(med_line)[1]\n",
    "#reduced_chisq = chi_lines(med_line)[0]\n",
    "\n",
    "for ind in wav_ind:\n",
    "    if ind in wav_ind_obs:\n",
    "        if ind == wav_ind_obs[0]:\n",
    "            line_lum_ax.errorbar(shortened_sorted_line_name[ind], obs[\"line_lum\"][ind], yerr=obs[\"line_lum_unc\"][ind],\n",
    "             marker='o', ls=' ', color='dodgerblue', markeredgecolor='k', alpha=0.5,\n",
    "             label=\"obs\")\n",
    "        else:\n",
    "            line_lum_ax.errorbar(shortened_sorted_line_name[ind], obs[\"line_lum\"][ind], yerr=obs[\"line_lum_unc\"][ind],\n",
    "             marker='o', ls=' ', color='dodgerblue', markeredgecolor='k', alpha=0.5)\n",
    "    if ind in wav_ind_up:\n",
    "        line_lum_ax.errorbar(shortened_sorted_line_name[ind], obs[\"line_lum_up\"][ind], yerr=obs[\"line_lum_up\"][ind]/1.5,\n",
    "             marker='o', ls=' ', uplims=True, color='dodgerblue', markeredgecolor='k', alpha=0.5, capsize=2.5)\n",
    "line_lum_ax.scatter(shortened_sorted_line_name[wav_ind], med_line[wav_ind],\n",
    "                    marker='o', color='C1', edgecolor='k', alpha=0.6,\n",
    "                    label=\"Cue\")\n",
    "\n",
    "line_lum_ax.legend(framealpha=0., handletextpad=0.08, labelspacing=0.05, \n",
    "                   ncol=2, columnspacing=1.5, handlelength=1.0, \n",
    "                   loc='upper center', bbox_to_anchor=(0.42, 1.02)); \n",
    "line_lum_ax.set_ylabel(r'L (erg/s)')\n",
    "line_lum_ax.set_yscale('log')\n",
    "line_lum_ax.set_ylim(line_lum_ax.get_ylim()[0]*0.92, line_lum_ax.get_ylim()[1]*2)\n",
    "line_lum_ax.yaxis.set_minor_locator(matplotlib.ticker.LogLocator(numticks=999, subs=\"auto\"))\n",
    "line_lum_ax.tick_params(axis=\"x\", labelbottom=False)\n",
    "\n",
    "line_lum_resid_ax.sharex(line_lum_ax)\n",
    "line_lum_resid_ax.errorbar(shortened_sorted_line_name[wav_ind], linechi_med[wav_ind],\n",
    "                           yerr=[linechi_med[wav_ind]-linechi_low[wav_ind], linechi_up[wav_ind]-linechi_med[wav_ind]],\n",
    "                           color='C1', marker='o', markersize=2, linestyle=' ', \n",
    "                           markeredgecolor='k', alpha=0.5, capsize=4,)\n",
    "resid_ymax = np.min([np.abs(line_lum_resid_ax.get_ylim()).max()*1.05,7])\n",
    "line_lum_resid_ax.set_ylim(-resid_ymax,resid_ymax)\n",
    "line_lum_resid_ax.tick_params('both', pad=2.5, size=3.5, width=1.0, which='both')\n",
    "line_lum_resid_ax.yaxis.set_major_locator(matplotlib.ticker.MaxNLocator(5))\n",
    "line_lum_resid_ax.yaxis.set_minor_locator(matplotlib.ticker.MultipleLocator(1))\n",
    "line_lum_resid_ax.tick_params(which='minor', length=2)\n",
    "line_lum_resid_ax.set_ylabel(r'$\\chi$');\n",
    "# extra line\n",
    "line_lum_resid_ax.axhline(0, linestyle=':', color='grey')\n",
    "plt.xticks(rotation=90);\n",
    "\n",
    "plt.tight_layout()"
   ]
  },
  {
   "cell_type": "markdown",
   "id": "94b63227",
   "metadata": {},
   "source": [
    "We can fit all lines within ~3 sigma except for the CIV λλ1548, 1551 resonant lines. CIV λλ1548, 1551 have large emulator uncertainties that have been included in the likelihood function. We allow those lines to deviate more from the observed value since our model is uncertain on them."
   ]
  },
  {
   "cell_type": "code",
   "execution_count": null,
   "id": "703578ed",
   "metadata": {
    "ExecuteTime": {
     "end_time": "2024-07-31T21:34:14.209376Z",
     "start_time": "2024-07-31T21:34:13.780027Z"
    },
    "code_folding": [
     0
    ]
   },
   "outputs": [],
   "source": [
    "# plot nebular continuum prediction\n",
    "plt.figure(figsize=(7,3.5), dpi=120)\n",
    "plt.plot(cont_lam[cont_lam>912],\n",
    "         np.log10(med_cont*c/cont_lam[cont_lam>912]**2),\n",
    "         color='C1', lw=2, alpha=0.7, label='nebular continuum')\n",
    "plt.fill_between(cont_lam[cont_lam>912], \n",
    "                 y1=np.log10(low_cont*c/cont_lam[cont_lam>912]**2),\n",
    "                 y2=np.log10(up_cont*c/cont_lam[cont_lam>912]**2),\n",
    "                 facecolor='C1', edgecolor=None, alpha=0.4)\n",
    "plt.xscale('log')\n",
    "plt.legend(framealpha=0., handlelength=1.2)\n",
    "plt.xlabel(r'$\\mathrm{\\lambda}$ ($\\mathrm{\\AA}$)', size=12)\n",
    "plt.ylabel(r'log $\\mathrm{F}_\\lambda$ (erg s$^{-1}$ $\\mathrm{\\AA}^{-1}$)', size=12);"
   ]
  },
  {
   "cell_type": "code",
   "execution_count": null,
   "id": "d8831fa3",
   "metadata": {},
   "outputs": [],
   "source": []
  }
 ],
 "metadata": {
  "kernelspec": {
   "display_name": "jaxcue",
   "language": "python",
   "name": "python3"
  },
  "language_info": {
   "codemirror_mode": {
    "name": "ipython",
    "version": 3
   },
   "file_extension": ".py",
   "mimetype": "text/x-python",
   "name": "python",
   "nbconvert_exporter": "python",
   "pygments_lexer": "ipython3",
   "version": "-1.-1.-1"
  },
  "toc": {
   "base_numbering": 1,
   "nav_menu": {
    "height": "148px",
    "width": "781px"
   },
   "number_sections": true,
   "sideBar": true,
   "skip_h1_title": false,
   "title_cell": "Table of Contents",
   "title_sidebar": "Contents",
   "toc_cell": false,
   "toc_position": {},
   "toc_section_display": true,
   "toc_window_display": false
  }
 },
 "nbformat": 4,
 "nbformat_minor": 5
}
